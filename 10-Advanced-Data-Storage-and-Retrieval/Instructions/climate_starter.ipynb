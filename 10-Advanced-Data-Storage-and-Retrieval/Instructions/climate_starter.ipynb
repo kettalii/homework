{
 "cells": [
  {
   "cell_type": "code",
   "execution_count": 75,
   "metadata": {},
   "outputs": [],
   "source": [
    "%matplotlib inline\n",
    "from matplotlib import style\n",
    "style.use('fivethirtyeight')\n",
    "import matplotlib.pyplot as plt"
   ]
  },
  {
   "cell_type": "code",
   "execution_count": 76,
   "metadata": {},
   "outputs": [],
   "source": [
    "import numpy as np\n",
    "import pandas as pd"
   ]
  },
  {
   "cell_type": "code",
   "execution_count": 77,
   "metadata": {},
   "outputs": [],
   "source": [
    "import datetime as dt"
   ]
  },
  {
   "cell_type": "markdown",
   "metadata": {},
   "source": [
    "# Reflect Tables into SQLAlchemy ORM"
   ]
  },
  {
   "cell_type": "code",
   "execution_count": 78,
   "metadata": {},
   "outputs": [],
   "source": [
    "# Python SQL toolkit and Object Relational Mapper\n",
    "import sqlalchemy\n",
    "from sqlalchemy.ext.automap import automap_base\n",
    "from sqlalchemy.orm import Session\n",
    "from sqlalchemy import create_engine, func"
   ]
  },
  {
   "cell_type": "code",
   "execution_count": 79,
   "metadata": {},
   "outputs": [],
   "source": [
    "engine = create_engine(\"sqlite:///Resources/hawaii.sqlite\")"
   ]
  },
  {
   "cell_type": "code",
   "execution_count": 80,
   "metadata": {},
   "outputs": [],
   "source": [
    "# reflect an existing database into a new model\n",
    "Base = automap_base()\n",
    "# reflect the tables\n",
    "Base.prepare(engine, reflect=True)"
   ]
  },
  {
   "cell_type": "code",
   "execution_count": 81,
   "metadata": {},
   "outputs": [
    {
     "data": {
      "text/plain": [
       "['measurement', 'station']"
      ]
     },
     "execution_count": 81,
     "metadata": {},
     "output_type": "execute_result"
    }
   ],
   "source": [
    "# We can view all of the classes that automap found\n",
    "Base.classes.keys()"
   ]
  },
  {
   "cell_type": "code",
   "execution_count": 82,
   "metadata": {},
   "outputs": [],
   "source": [
    "# Save references to each table\n",
    "Measurement = Base.classes.measurement\n",
    "Station = Base.classes.station"
   ]
  },
  {
   "cell_type": "code",
   "execution_count": 83,
   "metadata": {},
   "outputs": [],
   "source": [
    "# Create our session (link) from Python to the DB\n",
    "session = Session(engine)"
   ]
  },
  {
   "cell_type": "markdown",
   "metadata": {},
   "source": [
    "# Exploratory Climate Analysis"
   ]
  },
  {
   "cell_type": "code",
   "execution_count": 84,
   "metadata": {},
   "outputs": [
    {
     "name": "stdout",
     "output_type": "stream",
     "text": [
      "('2017-08-23',)\n",
      "2016-08-23\n"
     ]
    },
    {
     "data": {
      "text/html": [
       "<div>\n",
       "<style scoped>\n",
       "    .dataframe tbody tr th:only-of-type {\n",
       "        vertical-align: middle;\n",
       "    }\n",
       "\n",
       "    .dataframe tbody tr th {\n",
       "        vertical-align: top;\n",
       "    }\n",
       "\n",
       "    .dataframe thead th {\n",
       "        text-align: right;\n",
       "    }\n",
       "</style>\n",
       "<table border=\"1\" class=\"dataframe\">\n",
       "  <thead>\n",
       "    <tr style=\"text-align: right;\">\n",
       "      <th></th>\n",
       "      <th>date</th>\n",
       "      <th>prcp</th>\n",
       "    </tr>\n",
       "  </thead>\n",
       "  <tbody>\n",
       "    <tr>\n",
       "      <th>0</th>\n",
       "      <td>2016-08-24</td>\n",
       "      <td>0.08</td>\n",
       "    </tr>\n",
       "    <tr>\n",
       "      <th>1</th>\n",
       "      <td>2016-08-24</td>\n",
       "      <td>2.15</td>\n",
       "    </tr>\n",
       "    <tr>\n",
       "      <th>2</th>\n",
       "      <td>2016-08-24</td>\n",
       "      <td>2.28</td>\n",
       "    </tr>\n",
       "    <tr>\n",
       "      <th>3</th>\n",
       "      <td>2016-08-24</td>\n",
       "      <td>NaN</td>\n",
       "    </tr>\n",
       "    <tr>\n",
       "      <th>4</th>\n",
       "      <td>2016-08-24</td>\n",
       "      <td>1.22</td>\n",
       "    </tr>\n",
       "  </tbody>\n",
       "</table>\n",
       "</div>"
      ],
      "text/plain": [
       "         date  prcp\n",
       "0  2016-08-24  0.08\n",
       "1  2016-08-24  2.15\n",
       "2  2016-08-24  2.28\n",
       "3  2016-08-24   NaN\n",
       "4  2016-08-24  1.22"
      ]
     },
     "execution_count": 84,
     "metadata": {},
     "output_type": "execute_result"
    }
   ],
   "source": [
    "# Design a query to retrieve the last 12 months of precipitation data and plot the results\n",
    "last_date = session.query(Measurement.date).order_by(Measurement.date.desc()).first()\n",
    "print(last_date)\n",
    "# Calculate the date 1 year ago from the last data point in the database\n",
    "last_year = dt.date(2017, 8, 23) - dt.timedelta(days=365)\n",
    "print(last_year)\n",
    "# Perform a query to retrieve the data and precipitation scores\n",
    "rain = session.query(Measurement.date, Measurement.prcp).\\\n",
    "    filter(Measurement.date > last_year).\\\n",
    "    order_by(Measurement.date).all()\n",
    "# Save the query results as a Pandas DataFrame and set the index to the date column\n",
    "rain = session.query(Measurement.date, Measurement.prcp).\\\n",
    "    filter(Measurement.date > last_year).\\\n",
    "    order_by(Measurement.date).all()\n",
    "# Sort the dataframe by date\n",
    "rain_df = pd.DataFrame(rain)\n",
    "rain_df.head()\n",
    "\n",
    "# Use Pandas Plotting with Matplotlib to plot the data\n"
   ]
  },
  {
   "cell_type": "code",
   "execution_count": 85,
   "metadata": {},
   "outputs": [
    {
     "data": {
      "text/html": [
       "<div>\n",
       "<style scoped>\n",
       "    .dataframe tbody tr th:only-of-type {\n",
       "        vertical-align: middle;\n",
       "    }\n",
       "\n",
       "    .dataframe tbody tr th {\n",
       "        vertical-align: top;\n",
       "    }\n",
       "\n",
       "    .dataframe thead th {\n",
       "        text-align: right;\n",
       "    }\n",
       "</style>\n",
       "<table border=\"1\" class=\"dataframe\">\n",
       "  <thead>\n",
       "    <tr style=\"text-align: right;\">\n",
       "      <th></th>\n",
       "      <th>prcp</th>\n",
       "    </tr>\n",
       "    <tr>\n",
       "      <th>date</th>\n",
       "      <th></th>\n",
       "    </tr>\n",
       "  </thead>\n",
       "  <tbody>\n",
       "    <tr>\n",
       "      <th>2016-08-24</th>\n",
       "      <td>0.08</td>\n",
       "    </tr>\n",
       "    <tr>\n",
       "      <th>2016-08-24</th>\n",
       "      <td>2.15</td>\n",
       "    </tr>\n",
       "    <tr>\n",
       "      <th>2016-08-24</th>\n",
       "      <td>2.28</td>\n",
       "    </tr>\n",
       "    <tr>\n",
       "      <th>2016-08-24</th>\n",
       "      <td>NaN</td>\n",
       "    </tr>\n",
       "    <tr>\n",
       "      <th>2016-08-24</th>\n",
       "      <td>1.22</td>\n",
       "    </tr>\n",
       "  </tbody>\n",
       "</table>\n",
       "</div>"
      ],
      "text/plain": [
       "            prcp\n",
       "date            \n",
       "2016-08-24  0.08\n",
       "2016-08-24  2.15\n",
       "2016-08-24  2.28\n",
       "2016-08-24   NaN\n",
       "2016-08-24  1.22"
      ]
     },
     "execution_count": 85,
     "metadata": {},
     "output_type": "execute_result"
    }
   ],
   "source": [
    "rain_df.set_index('date').head()"
   ]
  },
  {
   "cell_type": "code",
   "execution_count": 86,
   "metadata": {},
   "outputs": [
    {
     "data": {
      "image/png": "[encoded data removed]",
      "text/plain": [
       "<Figure size 432x288 with 1 Axes>"
      ]
     },
     "metadata": {},
     "output_type": "display_data"
    }
   ],
   "source": [
    "# plot the dataframe\n",
    "rain_df.plot('date', 'prcp')\n",
    "plt.xlabel(\"Date\")\n",
    "plt.ylabel(\"Rain in Inches\")\n",
    "plt.title(\"Precipitation Analysis (8/24/16 to 8/23/17)\")\n",
    "plt.legend([\"Precipitation\"])\n",
    "plt.xticks(rotation=45)\n",
    "plt.tight_layout()\n",
    "plt.show()"
   ]
  },
  {
   "cell_type": "markdown",
   "metadata": {},
   "source": [
    "![precipitation](Images/precipitation.png)"
   ]
  },
  {
   "cell_type": "code",
   "execution_count": 87,
   "metadata": {},
   "outputs": [
    {
     "data": {
      "text/html": [
       "<div>\n",
       "<style scoped>\n",
       "    .dataframe tbody tr th:only-of-type {\n",
       "        vertical-align: middle;\n",
       "    }\n",
       "\n",
       "    .dataframe tbody tr th {\n",
       "        vertical-align: top;\n",
       "    }\n",
       "\n",
       "    .dataframe thead th {\n",
       "        text-align: right;\n",
       "    }\n",
       "</style>\n",
       "<table border=\"1\" class=\"dataframe\">\n",
       "  <thead>\n",
       "    <tr style=\"text-align: right;\">\n",
       "      <th></th>\n",
       "      <th>prcp</th>\n",
       "    </tr>\n",
       "  </thead>\n",
       "  <tbody>\n",
       "    <tr>\n",
       "      <th>count</th>\n",
       "      <td>2015.000000</td>\n",
       "    </tr>\n",
       "    <tr>\n",
       "      <th>mean</th>\n",
       "      <td>0.176462</td>\n",
       "    </tr>\n",
       "    <tr>\n",
       "      <th>std</th>\n",
       "      <td>0.460288</td>\n",
       "    </tr>\n",
       "    <tr>\n",
       "      <th>min</th>\n",
       "      <td>0.000000</td>\n",
       "    </tr>\n",
       "    <tr>\n",
       "      <th>25%</th>\n",
       "      <td>0.000000</td>\n",
       "    </tr>\n",
       "    <tr>\n",
       "      <th>50%</th>\n",
       "      <td>0.020000</td>\n",
       "    </tr>\n",
       "    <tr>\n",
       "      <th>75%</th>\n",
       "      <td>0.130000</td>\n",
       "    </tr>\n",
       "    <tr>\n",
       "      <th>max</th>\n",
       "      <td>6.700000</td>\n",
       "    </tr>\n",
       "  </tbody>\n",
       "</table>\n",
       "</div>"
      ],
      "text/plain": [
       "              prcp\n",
       "count  2015.000000\n",
       "mean      0.176462\n",
       "std       0.460288\n",
       "min       0.000000\n",
       "25%       0.000000\n",
       "50%       0.020000\n",
       "75%       0.130000\n",
       "max       6.700000"
      ]
     },
     "execution_count": 87,
     "metadata": {},
     "output_type": "execute_result"
    }
   ],
   "source": [
    "# Use Pandas to calcualte the summary statistics for the precipitation data\n",
    "rain_df.describe()"
   ]
  },
  {
   "cell_type": "markdown",
   "metadata": {},
   "source": [
    "![describe](Images/describe.png)"
   ]
  },
  {
   "cell_type": "code",
   "execution_count": 88,
   "metadata": {},
   "outputs": [
    {
     "name": "stdout",
     "output_type": "stream",
     "text": [
      "There are 9 stations.\n"
     ]
    }
   ],
   "source": [
    "# Design a query to show how many stations are available in this dataset?\n",
    "locations = session.query(Measurement).group_by(Measurement.station).count()\n",
    "print(\"There are {} stations.\".format(locations))"
   ]
  },
  {
   "cell_type": "code",
   "execution_count": 89,
   "metadata": {},
   "outputs": [
    {
     "name": "stdout",
     "output_type": "stream",
     "text": [
      "The busiest Station was USC00519281 with 2772 weather observations.\n",
      "\n",
      "Here are all of the Stations (in descending order) with their number of observations:\n",
      "Station USC00519281 had 2772 weather observations.\n",
      "Station USC00519397 had 2724 weather observations.\n",
      "Station USC00513117 had 2709 weather observations.\n",
      "Station USC00519523 had 2669 weather observations.\n",
      "Station USC00516128 had 2612 weather observations.\n",
      "Station USC00514830 had 2202 weather observations.\n",
      "Station USC00511918 had 1979 weather observations.\n",
      "Station USC00517948 had 1372 weather observations.\n",
      "Station USC00518838 had 511 weather observations.\n"
     ]
    }
   ],
   "source": [
    "# What are the most active stations? (i.e. what stations have the most rows)?\n",
    "# List the stations and the counts in descending order.\n",
    "busy_station = session.query(Measurement.station, func.count(Measurement.tobs)).group_by(Measurement.station).\\\n",
    "               order_by(func.count(Measurement.tobs).desc()).all()\n",
    "\n",
    "busiest = busy_station[0][0]    \n",
    "print(\"The busiest Station was\",busiest,\"with\",busy_station[0][1],\"weather observations.\")\n",
    "print()\n",
    "print(\"Here are all of the Stations (in descending order) with their number of observations:\")\n",
    "for station, count in busy_station:\n",
    "    print(\"Station\",station,\"had\",count, \"weather observations.\")"
   ]
  },
  {
   "cell_type": "code",
   "execution_count": 90,
   "metadata": {},
   "outputs": [],
   "source": [
    "# Using the station id from the previous query, calculate the lowest temperature recorded, \n",
    "# highest temperature recorded, and average temperature most active station?\n",
    "temperature = session.query(Measurement.station, Measurement.date, Measurement.tobs).\\\n",
    "    filter(Measurement.station == busiest).\\\n",
    "    filter(Measurement.date > last_year).\\\n",
    "    order_by(Measurement.date).all()"
   ]
  },
  {
   "cell_type": "code",
   "execution_count": 104,
   "metadata": {},
   "outputs": [
    {
     "data": {
      "image/png": "[encoded data removed]",
      "text/plain": [
       "<Figure size 432x288 with 1 Axes>"
      ]
     },
     "metadata": {},
     "output_type": "display_data"
    }
   ],
   "source": [
    "# Choose the station with the highest number of temperature observations.\n",
    "# Query the last 12 months of temperature observation data for this station and plot the results as a histogram\n",
    "temp_df=pd.DataFrame(temperature)\n",
    "plt.hist(temp_df['tobs'],12)\n",
    "plt.xlabel(\"Recorded Temperature\")\n",
    "plt.ylabel(\"Frequency\")\n",
    "plt.title(\"Station Analysis\" + busiest)\n",
    "plt.show()"
   ]
  },
  {
   "cell_type": "markdown",
   "metadata": {},
   "source": [
    "![precipitation](Images/station-histogram.png)"
   ]
  },
  {
   "cell_type": "code",
   "execution_count": 92,
   "metadata": {},
   "outputs": [
    {
     "name": "stdout",
     "output_type": "stream",
     "text": [
      "[(62.0, 69.57142857142857, 74.0)]\n"
     ]
    }
   ],
   "source": [
    "# This function called `calc_temps` will accept start date and end date in the format '%Y-%m-%d' \n",
    "# and return the minimum, average, and maximum temperatures for that range of dates\n",
    "def calc_temps(start_date, end_date):\n",
    "    \"\"\"TMIN, TAVG, and TMAX for a list of dates.\n",
    "    \n",
    "    Args:\n",
    "        start_date (string): A date string in the format %Y-%m-%d\n",
    "        end_date (string): A date string in the format %Y-%m-%d\n",
    "        \n",
    "    Returns:\n",
    "        TMIN, TAVE, and TMAX\n",
    "    \"\"\"\n",
    "    \n",
    "    return session.query(func.min(Measurement.tobs), func.avg(Measurement.tobs), func.max(Measurement.tobs)).\\\n",
    "        filter(Measurement.date >= start_date).filter(Measurement.date <= end_date).all()\n",
    "\n",
    "# function usage example\n",
    "print(calc_temps('2012-02-28', '2012-03-05'))"
   ]
  },
  {
   "cell_type": "code",
   "execution_count": 93,
   "metadata": {},
   "outputs": [
    {
     "name": "stdout",
     "output_type": "stream",
     "text": [
      "[(67.0, 74.47368421052632, 82.0)]\n"
     ]
    }
   ],
   "source": [
    "# Use your previous function `calc_temps` to calculate the tmin, tavg, and tmax \n",
    "# for your trip using the previous year's data for those same dates.\n",
    "# calculate the min/max/avg from last year that matches my trip date\n",
    "trip_arrive = dt.date(2018, 4, 1)\n",
    "trip_leave = dt.date(2018, 4, 15)\n",
    "last_year = dt.timedelta(days=365)\n",
    "temp_avg_lst_year = (calc_temps((trip_arrive-last_year), (trip_leave-last_year)))\n",
    "print(temp_avg_lst_year)"
   ]
  },
  {
   "cell_type": "code",
   "execution_count": 94,
   "metadata": {},
   "outputs": [
    {
     "data": {
      "image/png": "[encoded data removed]",
      "text/plain": [
       "<Figure size 432x288 with 1 Axes>"
      ]
     },
     "metadata": {},
     "output_type": "display_data"
    }
   ],
   "source": [
    "# Plot the results from your previous query as a bar chart. \n",
    "# Use \"Trip Avg Temp\" as your Title\n",
    "# Use the average temperature for the y value\n",
    "# Use the peak-to-peak (tmax-tmin) value as the y error bar (yerr)\n",
    "# plotting the data as a boxplot\n",
    "\n",
    "fig, ax = plt.subplots()\n",
    "x = range(len(temp_avg_lst_year))\n",
    "ax.boxplot(temp_avg_lst_year, patch_artist=True)\n",
    "ax.set_title('Trip Average Temperature From Prior Year')\n",
    "ax.set_ylabel(\"Temperature\")\n",
    "ax.set_xlabel(\"Trip\")\n",
    "fig.tight_layout()\n",
    "plt.show()"
   ]
  },
  {
   "cell_type": "code",
   "execution_count": 95,
   "metadata": {},
   "outputs": [
    {
     "data": {
      "image/png": "[encoded data removed]",
      "text/plain": [
       "<Figure size 432x288 with 1 Axes>"
      ]
     },
     "metadata": {},
     "output_type": "display_data"
    }
   ],
   "source": [
    "# Calculate the total amount of rainfall per weather station for your trip dates using the previous year's matching dates.\n",
    "# Sort this in descending order by precipitation amount and list the station, name, latitude, longitude, and elevation\n",
    "# plot the calculated min/max/avg from last year for the trip dates as a bar chart\n",
    "\n",
    "p2p = temp_avg_lst_year[0][2]-temp_avg_lst_year[0][0]\n",
    "avgtemp = temp_avg_lst_year[0][1]\n",
    "min_temp = temp_avg_lst_year[0][0]\n",
    "max_temp = temp_avg_lst_year[0][2]\n",
    "\n",
    "fig, ax = plt.subplots()\n",
    "bar_chart = ax.bar(1 , avgtemp, color= 'red', yerr=p2p)\n",
    "ax.set_xlabel(\"Trip\")\n",
    "ax.set_ylabel(\"Temperature\")\n",
    "ax.set_title(\"Trip Average Temperature From Prior Year\")\n",
    "\n",
    "def autolabels(rects):\n",
    "    for rect in rects:\n",
    "        h=rect.get_height()\n",
    "        ax.text(rect.get_x() + rect.get_width()/2., .6*h,'%.2f' % float(h) ,ha='center', va='bottom', fontsize=10)\n"
   ]
  },
  {
   "cell_type": "markdown",
   "metadata": {},
   "source": [
    "## Optional Challenge Assignment"
   ]
  },
  {
   "cell_type": "code",
   "execution_count": 96,
   "metadata": {},
   "outputs": [
    {
     "data": {
      "text/plain": [
       "[(62.0, 69.15384615384616, 77.0)]"
      ]
     },
     "execution_count": 96,
     "metadata": {},
     "output_type": "execute_result"
    }
   ],
   "source": [
    "# Create a query that will calculate the daily normals \n",
    "# (i.e. the averages for tmin, tmax, and tavg for all historic data matching a specific month and day)\n",
    "\n",
    "def daily_normals(date):\n",
    "    \"\"\"Daily Normals.\n",
    "    \n",
    "    Args:\n",
    "        date (str): A date string in the format '%m-%d'\n",
    "        \n",
    "    Returns:\n",
    "        A list of tuples containing the daily normals, tmin, tavg, and tmax\n",
    "    \n",
    "    \"\"\"\n",
    "    \n",
    "    sel = [func.min(Measurement.tobs), func.avg(Measurement.tobs), func.max(Measurement.tobs)]\n",
    "    return session.query(*sel).filter(func.strftime(\"%m-%d\", Measurement.date) == date).all()\n",
    "    \n",
    "daily_normals(\"01-01\")"
   ]
  },
  {
   "cell_type": "code",
   "execution_count": 98,
   "metadata": {},
   "outputs": [
    {
     "data": {
      "text/plain": [
       "[('2010-08-15'),\n",
       " ('2011-08-15'),\n",
       " ('2012-08-15'),\n",
       " ('2013-08-15'),\n",
       " ('2014-08-15'),\n",
       " ('2015-08-15'),\n",
       " ('2016-08-15'),\n",
       " ('2017-08-15')]"
      ]
     },
     "execution_count": 98,
     "metadata": {},
     "output_type": "execute_result"
    }
   ],
   "source": [
    "from sqlalchemy import extract  \n",
    "trip_month=8\n",
    "trip_days=range(1, 16)\n",
    "for i in range(1, 16):\n",
    "    subquery=session.query(Measurement.date).filter(extract('month', Measurement.date)==trip_month).\\\n",
    "             filter(extract('day', Measurement.date)== i ).group_by(Measurement.date).order_by(Measurement.date).all()\n",
    "subquery"
   ]
  },
  {
   "cell_type": "code",
   "execution_count": 99,
   "metadata": {},
   "outputs": [
    {
     "name": "stdout",
     "output_type": "stream",
     "text": [
      "('2010-08-01', 77.0, 71.0, 73.42857142857143)\n",
      "('2011-08-01', 78.0, 67.0, 73.375)\n",
      "('2012-08-01', 79.0, 71.0, 75.85714285714286)\n",
      "('2013-08-01', 79.0, 75.0, 76.83333333333333)\n",
      "('2014-08-01', 83.0, 73.0, 77.42857142857143)\n",
      "('2015-08-01', 79.0, 73.0, 77.4)\n",
      "('2016-08-01', 78.0, 73.0, 76.16666666666667)\n",
      "('2017-08-01', 77.0, 72.0, 74.5)\n",
      "('2010-08-02', 76.0, 70.0, 73.22222222222223)\n",
      "('2011-08-02', 77.0, 70.0, 73.625)\n",
      "('2012-08-02', 78.0, 68.0, 73.5)\n",
      "('2013-08-02', 78.0, 70.0, 74.57142857142857)\n",
      "('2014-08-02', 81.0, 73.0, 77.71428571428571)\n",
      "('2015-08-02', 84.0, 76.0, 80.0)\n",
      "('2016-08-02', 80.0, 72.0, 76.57142857142857)\n",
      "('2017-08-02', 83.0, 73.0, 79.0)\n",
      "('2010-08-03', 77.0, 70.0, 73.11111111111111)\n",
      "('2011-08-03', 78.0, 71.0, 75.25)\n",
      "('2012-08-03', 78.0, 72.0, 74.57142857142857)\n",
      "('2013-08-03', 79.0, 72.0, 76.66666666666667)\n",
      "('2014-08-03', 83.0, 74.0, 78.33333333333333)\n",
      "('2015-08-03', 85.0, 75.0, 80.0)\n",
      "('2016-08-03', 82.0, 74.0, 78.42857142857143)\n",
      "('2017-08-03', 81.0, 76.0, 79.0)\n",
      "('2010-08-04', 77.0, 69.0, 73.44444444444444)\n",
      "('2011-08-04', 77.0, 74.0, 75.625)\n",
      "('2012-08-04', 80.0, 72.0, 76.33333333333333)\n",
      "('2013-08-04', 79.0, 69.0, 76.66666666666667)\n",
      "('2014-08-04', 83.0, 74.0, 79.33333333333333)\n",
      "('2015-08-04', 84.0, 69.0, 77.28571428571429)\n",
      "('2016-08-04', 81.0, 74.0, 78.0)\n",
      "('2017-08-04', 82.0, 77.0, 80.0)\n",
      "('2010-08-05', 75.0, 69.0, 71.77777777777777)\n",
      "('2011-08-05', 79.0, 73.0, 76.375)\n",
      "('2012-08-05', 82.0, 70.0, 76.5)\n",
      "('2013-08-05', 79.0, 69.0, 74.875)\n",
      "('2014-08-05', 80.0, 74.0, 77.0)\n",
      "('2015-08-05', 82.0, 74.0, 78.14285714285714)\n",
      "('2016-08-05', 81.0, 75.0, 78.5)\n",
      "('2017-08-05', 82.0, 77.0, 80.0)\n",
      "('2010-08-06', 77.0, 70.0, 74.44444444444444)\n",
      "('2011-08-06', 78.0, 72.0, 75.16666666666667)\n",
      "('2012-08-06', 80.0, 67.0, 74.0)\n",
      "('2013-08-06', 80.0, 74.0, 76.625)\n",
      "('2014-08-06', 78.0, 71.0, 75.28571428571429)\n",
      "('2015-08-06', 81.0, 74.0, 77.28571428571429)\n",
      "('2016-08-06', 80.0, 76.0, 78.16666666666667)\n",
      "('2017-08-06', 83.0, 79.0, 81.4)\n",
      "('2010-08-07', 80.0, 72.0, 75.625)\n",
      "('2011-08-07', 79.0, 76.0, 77.57142857142857)\n",
      "('2012-08-07', 77.0, 71.0, 74.33333333333333)\n",
      "('2013-08-07', 81.0, 72.0, 76.625)\n",
      "('2014-08-07', 81.0, 74.0, 77.5)\n",
      "('2015-08-07', 82.0, 73.0, 78.0)\n",
      "('2016-08-07', 83.0, 77.0, 78.83333333333333)\n",
      "('2017-08-07', 83.0, 78.0, 80.5)\n",
      "('2010-08-08', 78.0, 71.0, 74.57142857142857)\n",
      "('2011-08-08', 78.0, 70.0, 75.75)\n",
      "('2012-08-08', 78.0, 71.0, 74.0)\n",
      "('2013-08-08', 81.0, 68.0, 74.625)\n",
      "('2014-08-08', 82.0, 73.0, 77.71428571428571)\n",
      "('2015-08-08', 82.0, 76.0, 79.4)\n",
      "('2016-08-08', 83.0, 75.0, 79.57142857142857)\n",
      "('2017-08-08', 82.0, 74.0, 78.5)\n",
      "('2010-08-09', 79.0, 72.0, 75.22222222222223)\n",
      "('2011-08-09', 79.0, 71.0, 75.42857142857143)\n",
      "('2012-08-09', 78.0, 69.0, 74.66666666666667)\n",
      "('2013-08-09', 80.0, 70.0, 74.75)\n",
      "('2014-08-09', 81.0, 73.0, 76.85714285714286)\n",
      "('2015-08-09', 79.0, 73.0, 75.75)\n",
      "('2016-08-09', 81.0, 73.0, 78.71428571428571)\n",
      "('2017-08-09', 81.0, 71.0, 77.33333333333333)\n",
      "('2010-08-10', 83.0, 72.0, 76.22222222222223)\n",
      "('2011-08-10', 79.0, 71.0, 75.0)\n",
      "('2012-08-10', 76.0, 65.0, 72.66666666666667)\n",
      "('2013-08-10', 76.0, 71.0, 73.33333333333333)\n",
      "('2014-08-10', 82.0, 73.0, 77.2)\n",
      "('2015-08-10', 81.0, 75.0, 78.33333333333333)\n",
      "('2016-08-10', 82.0, 76.0, 80.14285714285714)\n",
      "('2017-08-10', 81.0, 75.0, 79.25)\n",
      "('2010-08-11', 77.0, 69.0, 73.22222222222223)\n",
      "('2011-08-11', 80.0, 73.0, 76.14285714285714)\n",
      "('2012-08-11', 78.0, 67.0, 73.33333333333333)\n",
      "('2013-08-11', 82.0, 72.0, 77.33333333333333)\n",
      "('2014-08-11', 81.0, 68.0, 74.14285714285714)\n",
      "('2015-08-11', 82.0, 73.0, 78.57142857142857)\n",
      "('2016-08-11', 80.0, 74.0, 78.57142857142857)\n",
      "('2017-08-11', 81.0, 72.0, 78.0)\n",
      "('2010-08-12', 77.0, 71.0, 74.875)\n",
      "('2011-08-12', 78.0, 67.0, 74.75)\n",
      "('2012-08-12', 81.0, 69.0, 76.16666666666667)\n",
      "('2013-08-12', 79.0, 74.0, 76.625)\n",
      "('2014-08-12', 81.0, 70.0, 76.0)\n",
      "('2015-08-12', 83.0, 76.0, 80.0)\n",
      "('2016-08-12', 81.0, 71.0, 76.71428571428571)\n",
      "('2017-08-12', 83.0, 74.0, 79.0)\n",
      "('2010-08-13', 80.0, 71.0, 75.77777777777777)\n",
      "('2011-08-13', 78.0, 73.0, 75.71428571428571)\n",
      "('2012-08-13', 81.0, 73.0, 76.28571428571429)\n",
      "('2013-08-13', 79.0, 73.0, 75.57142857142857)\n",
      "('2014-08-13', 81.0, 71.0, 75.875)\n",
      "('2015-08-13', 83.0, 75.0, 78.625)\n",
      "('2016-08-13', 83.0, 74.0, 79.0)\n",
      "('2017-08-13', 84.0, 77.0, 80.6)\n",
      "('2010-08-14', 78.0, 71.0, 76.14285714285714)\n",
      "('2011-08-14', 80.0, 74.0, 77.0)\n",
      "('2012-08-14', 77.0, 72.0, 74.0)\n",
      "('2013-08-14', 79.0, 73.0, 76.5)\n",
      "('2014-08-14', 80.0, 71.0, 77.0)\n",
      "('2015-08-14', 82.0, 74.0, 78.5)\n",
      "('2016-08-14', 82.0, 72.0, 77.2)\n",
      "('2017-08-14', 81.0, 75.0, 78.2)\n",
      "('2010-08-15', 79.0, 72.0, 75.57142857142857)\n",
      "('2011-08-15', 80.0, 74.0, 76.25)\n",
      "('2012-08-15', 79.0, 73.0, 75.57142857142857)\n",
      "('2013-08-15', 79.0, 69.0, 75.33333333333333)\n",
      "('2014-08-15', 80.0, 70.0, 75.42857142857143)\n",
      "('2015-08-15', 83.0, 73.0, 79.16666666666667)\n",
      "('2016-08-15', 81.0, 72.0, 77.71428571428571)\n",
      "('2017-08-15', 82.0, 70.0, 77.2)\n"
     ]
    }
   ],
   "source": [
    "# calculate the daily normals for your trip\n",
    "# push each tuple of calculations into a list called `normals`\n",
    "\n",
    "# Set the start and end date of the trip\n",
    "\n",
    "# Use the start and end date to create a range of dates\n",
    "\n",
    "# Stip off the year and save a list of %m-%d strings\n",
    "\n",
    "# Loop through the list of %m-%d strings and calculate the normals for each date\n",
    "\n",
    "dates=[]\n",
    "daily_normals_Three_AVG=[]\n",
    "daily_normals_TMAX=[]\n",
    "daily_normals_TMIN=[]\n",
    "daily_normals_TAVG=[]\n",
    "\n",
    "trip_month=8\n",
    "trip_days=range(1, 16)\n",
    "\n",
    "def daily_normals():\n",
    "    \n",
    "    for i in range(1,16):\n",
    "        results=session.query(Measurement.date.label(\"dates\"), func.max(Measurement.tobs).label(\"max_tobs\"),\\\n",
    "                             func.min(Measurement.tobs).label(\"min_tobs\"),func.avg(Measurement.tobs).label(\"avg_tobs\")).\\\n",
    "                             filter(extract('month', Measurement.date)==trip_month).\\\n",
    "                             filter(extract('day', Measurement.date)== i ).group_by(Measurement.date).order_by(Measurement.date)\n",
    "        results\n",
    "        for res in results.all():\n",
    "             print( res)\n",
    "        \n",
    "        res\n",
    "        TMAX = res.max_tobs\n",
    "        TMIN= res.min_tobs\n",
    "        TAVG= res.avg_tobs\n",
    "        Date= res.dates\n",
    "        \n",
    "        data = [TMAX, TMIN, TAVG]\n",
    "        #avg = [float(sum(col))/len(col) for col in zip(*data)]\n",
    "\n",
    "        dates.append(Date)\n",
    "        #daily_normals_Three_AVG.append(avg)\n",
    "        daily_normals_TMAX.append(TMAX)\n",
    "        daily_normals_TMIN.append(TMIN)\n",
    "        daily_normals_TAVG.append(TAVG)\n",
    "        \n",
    "daily_normals()"
   ]
  },
  {
   "cell_type": "code",
   "execution_count": 100,
   "metadata": {},
   "outputs": [
    {
     "name": "stdout",
     "output_type": "stream",
     "text": [
      "2017-04-01\n",
      "2017-04-15\n"
     ]
    }
   ],
   "source": [
    "lst_year_arrive = trip_arrive - last_year\n",
    "lst_year_leave = trip_leave - last_year\n",
    "print(lst_year_arrive)\n",
    "print(lst_year_leave)"
   ]
  },
  {
   "cell_type": "code",
   "execution_count": 101,
   "metadata": {},
   "outputs": [],
   "source": [
    "# Load the previous query results into a Pandas DataFrame and add the `trip_dates` range as the `date` index\n",
    "vacation_data = session.query(Measurement.station, Measurement.date, Measurement.prcp, Measurement.tobs).\\\n",
    "    filter(Measurement.date >= lst_year_arrive).\\\n",
    "    filter(Measurement.date <= lst_year_leave).\\\n",
    "    order_by(Measurement.station).all()"
   ]
  },
  {
   "cell_type": "code",
   "execution_count": 102,
   "metadata": {},
   "outputs": [
    {
     "data": {
      "text/html": [
       "<div>\n",
       "<style scoped>\n",
       "    .dataframe tbody tr th:only-of-type {\n",
       "        vertical-align: middle;\n",
       "    }\n",
       "\n",
       "    .dataframe tbody tr th {\n",
       "        vertical-align: top;\n",
       "    }\n",
       "\n",
       "    .dataframe thead th {\n",
       "        text-align: right;\n",
       "    }\n",
       "</style>\n",
       "<table border=\"1\" class=\"dataframe\">\n",
       "  <thead>\n",
       "    <tr style=\"text-align: right;\">\n",
       "      <th></th>\n",
       "      <th>prcp</th>\n",
       "    </tr>\n",
       "    <tr>\n",
       "      <th>station</th>\n",
       "      <th></th>\n",
       "    </tr>\n",
       "  </thead>\n",
       "  <tbody>\n",
       "    <tr>\n",
       "      <th>USC00513117</th>\n",
       "      <td>1.64</td>\n",
       "    </tr>\n",
       "    <tr>\n",
       "      <th>USC00514830</th>\n",
       "      <td>0.90</td>\n",
       "    </tr>\n",
       "    <tr>\n",
       "      <th>USC00516128</th>\n",
       "      <td>5.75</td>\n",
       "    </tr>\n",
       "    <tr>\n",
       "      <th>USC00517948</th>\n",
       "      <td>0.00</td>\n",
       "    </tr>\n",
       "    <tr>\n",
       "      <th>USC00519281</th>\n",
       "      <td>4.14</td>\n",
       "    </tr>\n",
       "    <tr>\n",
       "      <th>USC00519397</th>\n",
       "      <td>0.27</td>\n",
       "    </tr>\n",
       "    <tr>\n",
       "      <th>USC00519523</th>\n",
       "      <td>0.36</td>\n",
       "    </tr>\n",
       "  </tbody>\n",
       "</table>\n",
       "</div>"
      ],
      "text/plain": [
       "             prcp\n",
       "station          \n",
       "USC00513117  1.64\n",
       "USC00514830  0.90\n",
       "USC00516128  5.75\n",
       "USC00517948  0.00\n",
       "USC00519281  4.14\n",
       "USC00519397  0.27\n",
       "USC00519523  0.36"
      ]
     },
     "execution_count": 102,
     "metadata": {},
     "output_type": "execute_result"
    }
   ],
   "source": [
    "vacation_data_df=pd.DataFrame(vacation_data)\n",
    "\n",
    "rain_per_station = pd.pivot_table(vacation_data_df,index=['station'],values=['prcp'], aggfunc=sum)\n",
    "rain_per_station"
   ]
  },
  {
   "cell_type": "code",
   "execution_count": 105,
   "metadata": {},
   "outputs": [
    {
     "data": {
      "text/html": [
       "<div>\n",
       "<style scoped>\n",
       "    .dataframe tbody tr th:only-of-type {\n",
       "        vertical-align: middle;\n",
       "    }\n",
       "\n",
       "    .dataframe tbody tr th {\n",
       "        vertical-align: top;\n",
       "    }\n",
       "\n",
       "    .dataframe thead th {\n",
       "        text-align: right;\n",
       "    }\n",
       "</style>\n",
       "<table border=\"1\" class=\"dataframe\">\n",
       "  <thead>\n",
       "    <tr style=\"text-align: right;\">\n",
       "      <th></th>\n",
       "      <th>TMAX</th>\n",
       "      <th>TMIN</th>\n",
       "      <th>TAVG</th>\n",
       "    </tr>\n",
       "    <tr>\n",
       "      <th>Date</th>\n",
       "      <th></th>\n",
       "      <th></th>\n",
       "      <th></th>\n",
       "    </tr>\n",
       "  </thead>\n",
       "  <tbody>\n",
       "    <tr>\n",
       "      <th>2017-08-01</th>\n",
       "      <td>77.0</td>\n",
       "      <td>72.0</td>\n",
       "      <td>74.5</td>\n",
       "    </tr>\n",
       "    <tr>\n",
       "      <th>2017-08-02</th>\n",
       "      <td>83.0</td>\n",
       "      <td>73.0</td>\n",
       "      <td>79.0</td>\n",
       "    </tr>\n",
       "    <tr>\n",
       "      <th>2017-08-03</th>\n",
       "      <td>81.0</td>\n",
       "      <td>76.0</td>\n",
       "      <td>79.0</td>\n",
       "    </tr>\n",
       "    <tr>\n",
       "      <th>2017-08-04</th>\n",
       "      <td>82.0</td>\n",
       "      <td>77.0</td>\n",
       "      <td>80.0</td>\n",
       "    </tr>\n",
       "    <tr>\n",
       "      <th>2017-08-05</th>\n",
       "      <td>82.0</td>\n",
       "      <td>77.0</td>\n",
       "      <td>80.0</td>\n",
       "    </tr>\n",
       "  </tbody>\n",
       "</table>\n",
       "</div>"
      ],
      "text/plain": [
       "            TMAX  TMIN  TAVG\n",
       "Date                        \n",
       "2017-08-01  77.0  72.0  74.5\n",
       "2017-08-02  83.0  73.0  79.0\n",
       "2017-08-03  81.0  76.0  79.0\n",
       "2017-08-04  82.0  77.0  80.0\n",
       "2017-08-05  82.0  77.0  80.0"
      ]
     },
     "execution_count": 105,
     "metadata": {},
     "output_type": "execute_result"
    }
   ],
   "source": [
    "Daily_normals_df= pd.DataFrame({'Date': dates, 'TMAX': daily_normals_TMAX, 'TMIN': daily_normals_TMIN,'TAVG': daily_normals_TAVG,})\n",
    "Daily_normals_df.set_index('Date', inplace=True, )\n",
    "Daily_normals_df.head()"
   ]
  },
  {
   "cell_type": "code",
   "execution_count": 106,
   "metadata": {},
   "outputs": [
    {
     "data": {
      "text/plain": [
       "<Figure size 648x792 with 0 Axes>"
      ]
     },
     "metadata": {},
     "output_type": "display_data"
    },
    {
     "data": {
      "image/png": "[encoded data removed]",
      "text/plain": [
       "<Figure size 432x288 with 1 Axes>"
      ]
     },
     "metadata": {},
     "output_type": "display_data"
    }
   ],
   "source": [
    "# Plot the daily normals as an area plot with `stacked=False`\n",
    "fig = plt.figure(figsize=(9, 11))\n",
    "ax = Daily_normals_df.plot(kind='area', stacked=False, title='Daily normals of Temperature in Hawaii')\n",
    "ax.set_xlabel('Date')\n",
    "plt.tight_layout()\n",
    "plt.savefig('Daily normals of Temperature in Hawaii.png', bbox_inches = 'tight')\n",
    "plt.show()"
   ]
  }
 ],
 "metadata": {
  "kernel_info": {
   "name": "python3"
  },
  "kernelspec": {
   "display_name": "Python 3",
   "language": "python",
   "name": "python3"
  },
  "language_info": {
   "codemirror_mode": {
    "name": "ipython",
    "version": 3
   },
   "file_extension": ".py",
   "mimetype": "text/x-python",
   "name": "python",
   "nbconvert_exporter": "python",
   "pygments_lexer": "ipython3",
   "version": "3.7.1"
  },
  "nteract": {
   "version": "0.12.3"
  },
  "varInspector": {
   "cols": {
    "lenName": 16,
    "lenType": 16,
    "lenVar": 40
   },
   "kernels_config": {
    "python": {
     "delete_cmd_postfix": "",
     "delete_cmd_prefix": "del ",
     "library": "var_list.py",
     "varRefreshCmd": "print(var_dic_list())"
    },
    "r": {
     "delete_cmd_postfix": ") ",
     "delete_cmd_prefix": "rm(",
     "library": "var_list.r",
     "varRefreshCmd": "cat(var_dic_list()) "
    }
   },
   "types_to_exclude": [
    "module",
    "function",
    "builtin_function_or_method",
    "instance",
    "_Feature"
   ],
   "window_display": false
  }
 },
 "nbformat": 4,
 "nbformat_minor": 2
}
